{
 "cells": [
  {
   "cell_type": "markdown",
   "id": "c1e41de6",
   "metadata": {},
   "source": [
    "# Parameter fairness\n",
    "Our intuition that the number of data samples needed for the model to learn being too low is . This is justified by PAC theory."
   ]
  }
 ],
 "metadata": {
  "kernelspec": {
   "display_name": "Python 3",
   "language": "python",
   "name": "python3"
  },
  "language_info": {
   "codemirror_mode": {
    "name": "ipython",
    "version": 3
   },
   "file_extension": ".py",
   "mimetype": "text/x-python",
   "name": "python",
   "nbconvert_exporter": "python",
   "pygments_lexer": "ipython3",
   "version": "3.8.3"
  }
 },
 "nbformat": 4,
 "nbformat_minor": 5
}
