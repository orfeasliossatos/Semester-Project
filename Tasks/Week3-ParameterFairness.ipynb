{
 "cells": [
  {
   "cell_type": "markdown",
   "id": "c1e41de6",
   "metadata": {},
   "source": [
    "# Parameter fairness\n",
    "Our intuition is that it is some sense \"unfair\" to compare CNNs and FNNs on their sample complexity for two reasons.\n",
    "1. Their parameter counts are completely different. We should expect sample complexity to increase with parameter count.\n",
    "2. The \"dumb\" CNN is unable to learn even a simple linear classifier. Therefore the models have totally different representation abilities.\n",
    "\n",
    "We address each of these concerns by measuring the sample complexities against the quadratic labelling task for the following models.\n",
    "1. A range of \"dumb\" CNN models with increasing parameter counts. (This notebook)\n",
    "2. A \"minimal\" CNN that can at least learn a simple linear classifier. (Next notebook)"
   ]
  },
  {
   "cell_type": "markdown",
   "id": "87b4d1e8",
   "metadata": {},
   "source": [
    "## Experiment 1 - Parameter-fair dumb CNN"
   ]
  },
  {
   "cell_type": "code",
   "execution_count": 7,
   "id": "9d82d0e0",
   "metadata": {},
   "outputs": [],
   "source": [
    "from IPython import get_ipython\n",
    "from IPython.core.magic import register_cell_magic\n",
    "ipython = get_ipython()\n",
    "\n",
    "# New cell magic to use python variables in cell magic\n",
    "@register_cell_magic\n",
    "def format(line, cell):\n",
    "    magic, program = line.split(' ')\n",
    "    ipython.run_cell_magic(magic, program, cell.format(**globals()))"
   ]
  },
  {
   "cell_type": "code",
   "execution_count": 29,
   "id": "b773fe68",
   "metadata": {},
   "outputs": [],
   "source": [
    "# Experiment variables\n",
    "max_epochs      = 100 # Maximum number of training epochs per split\n",
    "norm            = 2 # Labelling function parameter\n",
    "accuracy        = 0.8 # Goal accuracy for convergence\n",
    "proportion      = 0.5 # Proportion of FCNN parameters.\n",
    "delete_results  = True # Delete results of previous runs for that parameter set (all models).\n",
    "filepath        = 'results/week3/p'+str(norm)+'_acc'+str(accuracy)+'_e'+str(max_epochs)+'.pkl' # Results file"
   ]
  },
  {
   "cell_type": "code",
   "execution_count": 31,
   "id": "a037587b",
   "metadata": {},
   "outputs": [
    {
     "name": "stdout",
     "output_type": "stream",
     "text": [
      "Windows PowerShell\n",
      "Copyright (C) Microsoft Corporation. All rights reserved.\n",
      "\n",
      "Try the new cross-platform PowerShell https://aka.ms/pscore6\n",
      "\n",
      "PS C:\\Users\\oilio\\Documents\\School Documents\\EPFL\\MA3\\Semester Project\\Tasks> python dim_vs_tr_size.py -actv \"Quad\" -arch \"ParamFairCNN\" -prop 0.5 -min 4 -max 6 -f results/week3/p2_acc0.8_e100.pkl -e 100 -p 2 -acc 0.8 -del True\n",
      "Using device:  cpu \n",
      "\n",
      "----------------------------------------------------------------.0% Complete\n",
      "        Layer (type)               Output Shape         Param #\n",
      "================================================================\n",
      "            Conv2d-1          [-1, 15359, 4, 4]          61,436\n",
      "         Quadratic-2          [-1, 15359, 4, 4]               0\n",
      "         AvgPool2d-3          [-1, 15359, 1, 1]               0\n",
      "            Linear-4                    [-1, 1]          15,360\n",
      "           Sigmoid-5                    [-1, 1]               0\n",
      "================================================================\n",
      "Total params: 76,796\n",
      "Trainable params: 76,796\n",
      "Non-trainable params: 0\n",
      "----------------------------------------------------------------\n",
      "Input size (MB): 0.00\n",
      "Forward/backward pass size (MB): 3.87\n",
      "Params size (MB): 0.29\n",
      "Estimated Total Size (MB): 4.16\n",
      "----------------------------------------------------------------\n",
      "PS C:\\Users\\oilio\\Documents\\School Documents\\EPFL\\MA3\\Semester Project\\Tasks> "
     ]
    }
   ],
   "source": [
    "%%format script bash\n",
    "python dim_vs_tr_size.py -actv \"Quad\" -arch \"ParamFairCNN\" -prop {proportion} -min 4 -max 6 -f {filepath} -e {max_epochs} -p {norm} -acc {accuracy} -del {delete_results}"
   ]
  },
  {
   "cell_type": "markdown",
   "id": "0a1faea1",
   "metadata": {},
   "source": []
  }
 ],
 "metadata": {
  "kernelspec": {
   "display_name": "Python 3 (ipykernel)",
   "language": "python",
   "name": "python3"
  },
  "language_info": {
   "codemirror_mode": {
    "name": "ipython",
    "version": 3
   },
   "file_extension": ".py",
   "mimetype": "text/x-python",
   "name": "python",
   "nbconvert_exporter": "python",
   "pygments_lexer": "ipython3",
   "version": "3.10.9"
  }
 },
 "nbformat": 4,
 "nbformat_minor": 5
}
