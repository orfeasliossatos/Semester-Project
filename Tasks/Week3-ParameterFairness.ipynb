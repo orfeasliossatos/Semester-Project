{
 "cells": [
  {
   "cell_type": "markdown",
   "id": "c1e41de6",
   "metadata": {},
   "source": [
    "# Parameter fairness\n",
    "Our intuition is that it is some sense \"unfair\" to compare CNNs and FNNs on their sample complexity for two reasons.\n",
    "1. Their parameter counts are completely different. We should expect sample complexity to increase with parameter count.\n",
    "2. The \"dumb\" CNN is unable to learn even a simple linear classifier. Therefore the models have totally different representation abilities.\n",
    "\n",
    "We address each of these concerns by measuring the sample complexities against the quadratic labelling task for the following models.\n",
    "1. A range of \"dumb\" CNN models with increasing parameter counts.\n",
    "2. A \"minimal\" CNN that can at least learn a simple linear classifier."
   ]
  },
  {
   "cell_type": "markdown",
   "id": "87b4d1e8",
   "metadata": {},
   "source": [
    "## Experiment 1 - Dumb but bigger"
   ]
  },
  {
   "cell_type": "markdown",
   "id": "9d96da3c",
   "metadata": {},
   "source": []
  }
 ],
 "metadata": {
  "kernelspec": {
   "display_name": "Python 3",
   "language": "python",
   "name": "python3"
  },
  "language_info": {
   "codemirror_mode": {
    "name": "ipython",
    "version": 3
   },
   "file_extension": ".py",
   "mimetype": "text/x-python",
   "name": "python",
   "nbconvert_exporter": "python",
   "pygments_lexer": "ipython3",
   "version": "3.8.3"
  }
 },
 "nbformat": 4,
 "nbformat_minor": 5
}
