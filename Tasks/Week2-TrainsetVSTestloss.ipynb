{
 "cells": [
  {
   "cell_type": "markdown",
   "id": "0a91d765",
   "metadata": {},
   "source": [
    "# Sample Complexity Gap\n",
    "\n",
    "This notebook aims to demonstrate the stated sample complexity gap in **Why Are Convolutional Networks More Sample Efficient Than Fully-Connected Nets? by Zhiyuan Li, Yi Zhang and Sanjeev Arora** [1]. We set up an experiment in which we should see the gap as an increasing polynomial curve of degree less than two."
   ]
  },
  {
   "cell_type": "markdown",
   "id": "95758862",
   "metadata": {},
   "source": [
    "## 1. Methods\n",
    "\n",
    "For a given input dimension $d$, we seek the number $|S_{tr}|$ of training samples needed for a model to reach $\\epsilon=0.9$ test accuracy. Then we plot the difference of training samples needed between a Convolutional Neural Network and a Fully Connected Neural Network for increasing values of $d$.\n",
    "\n",
    "### Data\n",
    "\n",
    "The inputs are $3\\times k \\times k$ RGB images for $k\\in \\mathbb{N}$, yielding input dimensions $d\\in \\{..., 192, 243, 300, 363, ...\\}$. We create full training set of 10000 images and a test set of 10'000 and we ask \"the first *how-many* training samples are needed to reach $90\\%$ test accuracy if we train until convergence\"? The training sets are constructed in the following manner.\n",
    "+ Entry-wise independent Gaussian (mean 0, standard deviation 1)\n",
    "\n",
    "We explore two different labelling functions \n",
    "\\begin{equation}\n",
    "h_1=\\mathbb{1}[\\sum_{i\\in R} x_i > \\sum_{i \\in G}x_i] \\quad\\mathrm{ and }\\quad h_2=\\mathbb{1}[\\sum_{i\\in R} x_i^2 > \\sum_{i \\in G}x_i^2].\n",
    "\\end{equation}\n",
    "\n",
    "### Models\n",
    "\n",
    "1. 2-layer CNN\n",
    "    + Convolution: One kernel per input channel of size 3x3, 10 output channels, stride size 1, and padding of 1, and bias\n",
    "    + Activation function\n",
    "    + Max pooling, kernel size 2x2, stride 2\n",
    "    + Fully connected layer (160 in, 1 out) with bias\n",
    "    + Sigmoid  \n",
    "2. 2-layer \"Dumb\" CNN. (DCNN)\n",
    "    + Convolution: One kernel per input channel of size 3x3, 2 output channels, stride size 1, and padding of 0, and bias\n",
    "    + Activation function\n",
    "    + Global average pooling, kernel size 8x8\n",
    "    + Fully connected layer (160 in, 1 out) with bias\n",
    "    + Sigmoid\n",
    "2. 2-layer FCNN \n",
    "    + Fully connected layer (192 in, 3072 out) with bias\n",
    "    + Activation function \n",
    "    + Fully connected layer (3072 in, 1 out) with bias\n",
    "    + Sigmoid\n",
    "    \n",
    "We try both ReLU and Quadratic activation functions. \n",
    "\n",
    "### Training algorithm\n",
    "+ Stochastic Gradient Descent with batch size 64\n",
    "+ BCELoss\n",
    "+ Learning rate $\\gamma = 0.01$\n",
    "+ Stopping criterion: At least 10 epochs AND Training loss < 0.01 AND Rolling avg. of rel. change in training loss < 0.01 (window size 10). OR 500 epochs.\n",
    "\n",
    "### Model Evaluation\n",
    "+ The model $M$ prediction is $\\mathbb{1}[M(x)>0.5]$. Test accuracy is the percentage of correct predictions over the test set.\n",
    "\n",
    "### Search algorithm\n",
    "\n",
    "We seek the number of training samples needed to reach a fixed test accuracy using a kind of bisection algorithm.\n",
    "1. Initial training run on 5000 samples.\n",
    "    + If test accuracy > 0.9, take half step towards 0 -> 2'500\n",
    "    + If test accuracy <= 0.9 take half step towards 10'000 -> 7500\n",
    "2. Reload initial weights and retrain. Make quarter step.\n",
    "\n",
    "This is repeated $10$ times with different weight initialisations in case the test-accuracy curves are not monotonically increasing due to noise."
   ]
  },
  {
   "cell_type": "code",
   "execution_count": 7,
   "id": "88943ca7",
   "metadata": {},
   "outputs": [],
   "source": [
    "from IPython import get_ipython\n",
    "from IPython.core.magic import register_cell_magic\n",
    "ipython = get_ipython()\n",
    "\n",
    "# New cell magic to use python variables in cell magic\n",
    "@register_cell_magic\n",
    "def format(line, cell):\n",
    "    magic, program = line.split(' ')\n",
    "    ipython.run_cell_magic(magic, program, cell.format(**globals()))"
   ]
  },
  {
   "cell_type": "code",
   "execution_count": 2,
   "id": "7b668358",
   "metadata": {},
   "outputs": [],
   "source": [
    "# Experiment variables\n",
    "max_epochs      = 100 # Maximum number of training epochs per split\n",
    "norm            = 2 # Labelling function parameter\n",
    "accuracy        = 0.8 # Goal accuracy for convergence\n",
    "delete_results  = True # Delete results of previous runs for that parameter set (all models).\n",
    "filepath        = 'results/week2/p'+str(norm)+'_acc'+str(accuracy)+'_e'+str(max_epochs)+'.pkl' # Results file"
   ]
  },
  {
   "cell_type": "code",
   "execution_count": 9,
   "id": "9bd80dcc",
   "metadata": {},
   "outputs": [
    {
     "name": "stdout",
     "output_type": "stream",
     "text": [
      "Windows PowerShell\n",
      "Copyright (C) Microsoft Corporation. All rights reserved.\n",
      "\n",
      "Try the new cross-platform PowerShell https://aka.ms/pscore6\n",
      "\n",
      "PS C:\\Users\\oilio\\Documents\\School Documents\\EPFL\\MA3\\Semester Project\\Tasks> python week2.py -min 4 -max 6 -f results/week2/p2_acc0.8_e100.pkl -e 100 -p 2 -acc 0.8 -del True\n",
      "Using device:  cpu \n",
      "\n",
      "----------------------------------------------------------------.0% Complete\n",
      "        Layer (type)               Output Shape         Param #\n",
      "================================================================\n",
      "           Flatten-1                   [-1, 48]               0\n",
      "            Linear-2                 [-1, 3072]         150,528\n",
      "              ReLU-3                 [-1, 3072]               0\n",
      "            Linear-4                    [-1, 1]           3,073\n",
      "           Sigmoid-5                    [-1, 1]               0\n",
      "================================================================\n",
      "Total params: 153,601\n",
      "Trainable params: 153,601\n",
      "Non-trainable params: 0\n",
      "----------------------------------------------------------------\n",
      "Input size (MB): 0.00\n",
      "Forward/backward pass size (MB): 0.05\n",
      "Params size (MB): 0.59\n",
      "Estimated Total Size (MB): 0.63\n",
      "----------------------------------------------------------------\n",
      "Iterate  1 Training samples:  789\n",
      "Finished training. Acc:  0.5702999830245972 n = 789\n",
      "Iterate  2 Training samples:  1578\n",
      "Finished training. Acc:  0.6395000219345093 n = 1578\n",
      "Iterate  3 Training samples:  3156\n",
      "Finished training. Acc:  0.7498999834060669 n = 3156\n",
      "Iterate  4 Training samples:  6312\n",
      "Finished training. Acc:  0.8629999756813049 n = 6312\n",
      "Iterate  5 Training samples:  4734\n",
      "Finished training. Acc:  0.8195000290870667 n = 4734\n",
      "Iterate  6 Training samples:  3945\n",
      "Finished training. Acc:  0.7849000096321106 n = 3945\n",
      "Iterate  7 Training samples:  4339\n",
      "Finished training. Acc:  0.8037999868392944 n = 4339\n",
      "----------------------------------------------------------------0.0% Complete\n",
      "        Layer (type)               Output Shape         Param #\n",
      "================================================================\n",
      "           Flatten-1                   [-1, 75]               0\n",
      "            Linear-2                 [-1, 3072]         233,472\n",
      "              ReLU-3                 [-1, 3072]               0\n",
      "            Linear-4                    [-1, 1]           3,073\n",
      "           Sigmoid-5                    [-1, 1]               0\n",
      "================================================================\n",
      "Total params: 236,545\n",
      "Trainable params: 236,545\n",
      "Non-trainable params: 0\n",
      "----------------------------------------------------------------\n",
      "Input size (MB): 0.00\n",
      "Forward/backward pass size (MB): 0.05\n",
      "Params size (MB): 0.90\n",
      "Estimated Total Size (MB): 0.95\n",
      "----------------------------------------------------------------\n",
      "Iterate  1 Training samples:  731\n",
      "Finished training. Acc:  0.5268999934196472 n = 731\n",
      "Iterate  2 Training samples:  1462\n",
      "Finished training. Acc:  0.5769000053405762 n = 1462\n",
      "Iterate  3 Training samples:  2924\n",
      "Finished training. Acc:  0.636900007724762 n = 2924\n",
      "Iterate  4 Training samples:  5848\n"
     ]
    }
   ],
   "source": [
    "%%format script powershell\n",
    "python dim_vs_tr_size.py -min 4 -max 6 -f {filepath} -e {max_epochs} -p {norm} -acc {accuracy} -del {delete_results}"
   ]
  },
  {
   "cell_type": "markdown",
   "id": "7bb437ae",
   "metadata": {},
   "source": [
    "## 3. Results"
   ]
  },
  {
   "cell_type": "code",
   "execution_count": 3,
   "id": "0a355c5f",
   "metadata": {},
   "outputs": [
    {
     "data": {
      "image/png": "[encoded data removed]",
      "text/plain": [
       "<Figure size 640x480 with 1 Axes>"
      ]
     },
     "metadata": {},
     "output_type": "display_data"
    }
   ],
   "source": [
    "import pickle\n",
    "import numpy as np\n",
    "import matplotlib.pyplot as plt\n",
    "\n",
    "# Load data\n",
    "with open(filepath, 'rb') as file:\n",
    "    sample_complexity = pickle.load(file)\n",
    "\n",
    "\n",
    "# Extract data to plot\n",
    "names = set([name for name, _ in sample_complexity.keys()])\n",
    "\n",
    "# For every model, make line plot\n",
    "for i, name in enumerate(names):\n",
    "    x, y = list(zip(*sorted([(dim, tr_size) for (_name, dim), tr_size  in sample_complexity.items() if name == _name])))\n",
    "    plt.plot(x, y, marker='.', linestyle='-', label=name)\n",
    "    \n",
    "# Plot graphics\n",
    "plt.xlabel('Input dimension')\n",
    "plt.ylabel('Training set size')\n",
    "plt.title(f'Training set size required to reach {accuracy} test accuracy')\n",
    "plt.legend()\n",
    "plt.grid(True)\n",
    "\n",
    "# Show the plot\n",
    "plt.show()"
   ]
  },
  {
   "cell_type": "markdown",
   "id": "b9a6a808",
   "metadata": {},
   "source": [
    "1. [Why Are Convolutional Nets More Sample-Efficient than Fully-Connected Nets?](https://arxiv.org/abs/2010.08515) Zhiyuan Li, Yi Zhang, Sanjeev Arora, 2021"
   ]
  }
 ],
 "metadata": {
  "kernelspec": {
   "display_name": "Python 3",
   "language": "python",
   "name": "python3"
  },
  "language_info": {
   "codemirror_mode": {
    "name": "ipython",
    "version": 3
   },
   "file_extension": ".py",
   "mimetype": "text/x-python",
   "name": "python",
   "nbconvert_exporter": "python",
   "pygments_lexer": "ipython3",
   "version": "3.9.6"
  }
 },
 "nbformat": 4,
 "nbformat_minor": 5
}
