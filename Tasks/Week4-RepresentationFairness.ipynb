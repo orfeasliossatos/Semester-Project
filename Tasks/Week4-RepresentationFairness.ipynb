{
 "cells": [
  {
   "cell_type": "markdown",
   "metadata": {},
   "source": [
    "# Representation Fairness\n",
    "As we see in (past experiment), the dumb CNN with the Quadratic activation fails to learn a linear labelling (add plot). We find a minimal CNN architecture that does better and measure its sample complexity."
   ]
  },
  {
   "cell_type": "code",
   "execution_count": 1,
   "metadata": {},
   "outputs": [],
   "source": [
    "from IPython import get_ipython\n",
    "from IPython.core.magic import register_cell_magic\n",
    "ipython = get_ipython()\n",
    "\n",
    "# New cell magic to use python variables in cell magic\n",
    "@register_cell_magic\n",
    "def format(line, cell):\n",
    "    magic, program = line.split(' ')\n",
    "    ipython.run_cell_magic(magic, program, cell.format(**globals()))"
   ]
  },
  {
   "cell_type": "code",
   "execution_count": 2,
   "metadata": {},
   "outputs": [],
   "source": [
    "# Experiment variables\n",
    "max_epochs      = 100 # Maximum number of training epochs per split\n",
    "norm            = 2 # Labelling function parameter\n",
    "accuracy        = 0.8 # Goal accuracy for convergence\n",
    "proportion      = 0.5 # Proportion of FCNN parameters.\n",
    "delete_results  = True # Delete results of previous runs for that parameter set (all models).\n",
    "filepath        = 'results/week4/p'+str(norm)+'_acc'+str(accuracy)+'_e'+str(max_epochs)+'.pkl' # Results file"
   ]
  },
  {
   "cell_type": "code",
   "execution_count": null,
   "metadata": {},
   "outputs": [],
   "source": [
    "%%format script powershell\n",
    "python dim_vs_tr_size.py -actv \"Quad\" -arch \"ParamFairCNN\" -prop {proportion} -min 4 -max 6 -f {filepath} -e {max_epochs} -p {norm} -acc {accuracy} -del {delete_results}"
   ]
  }
 ],
 "metadata": {
  "kernelspec": {
   "display_name": "Python 3",
   "language": "python",
   "name": "python3"
  },
  "language_info": {
   "codemirror_mode": {
    "name": "ipython",
    "version": 3
   },
   "file_extension": ".py",
   "mimetype": "text/x-python",
   "name": "python",
   "nbconvert_exporter": "python",
   "pygments_lexer": "ipython3",
   "version": "3.9.6"
  },
  "orig_nbformat": 4
 },
 "nbformat": 4,
 "nbformat_minor": 2
}
