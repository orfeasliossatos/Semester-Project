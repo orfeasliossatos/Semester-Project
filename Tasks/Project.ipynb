{
 "cells": [
  {
   "cell_type": "markdown",
   "metadata": {},
   "source": [
    "# Sample Complexity Gaps"
   ]
  },
  {
   "cell_type": "markdown",
   "metadata": {},
   "source": [
    "Why can convolutional neural networks (CNNs) learn to classify images with less data than fully connected networks (FCNs)?\n",
    "\n",
    "One way to empirically observe this difference is to measure how many training samples it takes for both models to reach a fixed accuracy at a fixed task on a range of input dimensions. If you can describe how the number of training samples grows as a function $\\hat{g}$ of the input dimension $D$, then you have an empirical estimate of the sample complexity $\\hat{g}(d)$."
   ]
  },
  {
   "cell_type": "markdown",
   "metadata": {},
   "source": [
    "**In this project**, We construct an image classification task based on the Fourier Transform, and empirically demonstrate a sample complexity gap on realistic CNN and FCN architectures. *Our claim is weak* - that for our chosen arrangement of models, learning rates, image range, labelling function, and learning algorithm, in an abundance of training data, our CNN learns with an estimated $O(1)$ samples, and our FCN learns with an estimated $\\Omega(D^{2})$ samples. The value of this work is to better grasp what kind of natural tasks strongly distinguish the capabilities of CNNs and FCNs."
   ]
  },
  {
   "cell_type": "markdown",
   "metadata": {},
   "source": [
    "## Related work\n",
    "We build off the work of [Li, Zhang, Arora (2020)](https://arxiv.org/pdf/2010.08515.pdf), who found a task that requires at least a factor of $D^2$ more training samples for FCNs than for CNNs, where $D$ is the data dimension. Their data distribution is $\\mathcal{X}\\subset \\mathbb{R}^D \\sim \\mathcal{N}(0, 1)^D$. The target is given by the labelling function $h_2(x) = sgn(\\sum_{i=1}^{D/2}x_i^2 - \\sum_{i=D/2 +1}^{D}x_i^2)$. In an intuitive sense, this measures the brightness of two parts of an image. While we were able to replicate their heuristic experiment, we believe that it does not actually demonstrate the stated sample complexity gap of $\\Omega(D^2)$. We aim to take care of this as well."
   ]
  },
  {
   "cell_type": "markdown",
   "metadata": {},
   "source": [
    "## Methods"
   ]
  },
  {
   "cell_type": "markdown",
   "metadata": {},
   "source": [
    "We compare two models on two binary square image classification tasks.\n",
    "\n",
    "### Tasks\n",
    "Let $L\\in\\{10,12,14\\dots,40\\}$ be the image width, so $D:=l^2$ is the input dimension with $\\mathcal{X}\\subset \\mathbb{R}^D$.\n",
    "1. **Difference of brightness**\n",
    "+ An input is an entry-wise normal square image $\\mathcal{X} \\ni X \\sim \\mathcal{N}(0, 1)^D$.\n",
    "\n",
    "+ For $p>0$, define the labelling function $h_p(X)=\\mathcal{1}[\\sum_{i=1}^{D/2}x_i^p >\\sum_{i=D/2 +1}^{D}x_i^p]$, where the pixels $x_i$ of $X$ are indexed in row-order.\n",
    "\n",
    "+ Then $Y=h_p(X)$ is the corresponding label in $\\{0, 1\\}$.\n",
    "2. **Noisy Fourier patterns**\n",
    "+ Create a blank Fourier-domain square image $\\dot{X}$ of side length $L$. \n",
    "\n",
    "+ Assign random complex units to up to $f=8$ random points in a low-pass box of side-length $L/2$ inside $\\dot{X}$.\n",
    "\n",
    "+ Then compute $|IFT(\\dot{X})|$ with pixel-wise modulus and standardize the pixel values to mean $0$ and variance $1$. Call this $M$.\n",
    "\n",
    "+ Generate a label $Y\\sim \\text{Ber}(p)$ in $\\{0, 1\\}$ with parameter $p=0.5$. If $Y=1$, obfuscate $M$ with noise $Z\\sim \\mathcal{N}(0, 1)^d$. \n",
    "\n",
    "+ Finally, $X = L^2\\frac{M + YZ}{(||M + YZ||_1+10^{-6})}$\n",
    "### Models\n",
    "We compare a standard convolutional neural network with a max-pooling and linear layer to a two-layer neural network. Well-known learning theory results tells us that the number of parameters is a confounder on the sample complexity, so we match the number of parameters of the FCN to that of the CNN as best as possible by adjusting the number of hidden neurons $H$ in the FCN.\n",
    "1. **Convolutional neural network** (CNN)\n",
    "    + Convolutional layer : $1$ in channel, $1000$ out channels, kernel size $3$, stride $1$, padding $1$\n",
    "    + Activation layer : $ReLU$\n",
    "    + Max pool layer : kernel size $2$, stride $2$\n",
    "    + Linear layer : ? in, $1$ out neuron\n",
    "    + Sigmoid layer : $\\sigma$\n",
    "2. **Fully connected Network** (FCN)\n",
    "    + Linear layer : $L^2$ in, $H$ out neurons\n",
    "    + Activation layer : $ReLU$\n",
    "    + Linear layer : $H$ in, $1$ out neuron\n",
    "    + Sigmoid layer : $\\sigma$\n",
    "\n",
    "If the CNN has $|CNN|$ parameters, then let $H=\\max\\{1, \\lceil |CNN| / (L^2+1)\\rceil - 1\\}$\n",
    "### The training and testing protocol\n",
    "+ We train with Adam and Binary Cross Entropy Loss, with freshly generated image batches of size $64$ since we assume an abundace of training data.\n",
    "+ When the model obtains a training loss of 0.5, we test the model against a set of $1000$ fixed image-label pairs and compute accuracy $\\alpha$.\n",
    "+ If the obtained accuracy surpasses the requirement $\\alpha > \\epsilon = 0.75$, then stop. otherwise, lower the training loss goal by $0.025$ and continue training on new batches.\n",
    "+ The learning rates we used are summarized in this table.\n",
    "\n",
    "Learning rate table $0.0001$ for CNN, $0.005$ for FCNN."
   ]
  },
  {
   "cell_type": "markdown",
   "metadata": {},
   "source": [
    "# Empirical estimation"
   ]
  },
  {
   "cell_type": "code",
   "execution_count": 1,
   "metadata": {},
   "outputs": [],
   "source": [
    "# Imports\n",
    "import os\n",
    "import sys\n",
    "import pickle\n",
    "import numpy as np\n",
    "import torch\n",
    "import torch.nn as nn\n",
    "import torch.optim as optim\n",
    "from matplotlib import pyplot as plt\n",
    "from itertools import product\n",
    "from helpers import *\n",
    "from models import ModelLoader"
   ]
  },
  {
   "cell_type": "code",
   "execution_count": 19,
   "metadata": {},
   "outputs": [
    {
     "data": {
      "text/plain": [
       "<BarContainer object of 8 artists>"
      ]
     },
     "execution_count": 19,
     "metadata": {},
     "output_type": "execute_result"
    },
    {
     "data": {
      "image/png": "[encoded data removed]",
      "text/plain": [
       "<Figure size 640x480 with 1 Axes>"
      ]
     },
     "metadata": {},
     "output_type": "display_data"
    }
   ],
   "source": [
    "# Choose a number of frequencies\n",
    "freqs = np.arange(1, 8+1)\n",
    "freq = np.random.choice(a=freqs, p=freqs / np.sum(freqs), size=10000)\n",
    "plt.bar(*np.unique(freq, return_counts=True))"
   ]
  },
  {
   "cell_type": "markdown",
   "metadata": {},
   "source": [
    "We choose a particular setting for the estimation."
   ]
  },
  {
   "cell_type": "code",
   "execution_count": null,
   "metadata": {},
   "outputs": [],
   "source": [
    "# Fixed variables\n",
    "min_w           = 10    # Minimum image width\n",
    "max_w           = 40    # Maximum image width\n",
    "N_te            = 1_000 # Test set\n",
    "skip_w          = 2     # Skip widths\n",
    "freq            = 8     # Max number of distinct frequencies            \n",
    "batch_size      = 64    # Batch size\n",
    "cnn_out_chans   = 1000  # The number of output channels in the CNN model\n",
    "epsilon         = 0.75  # Required accuracy\n",
    "\n",
    "# Experiment controls\n",
    "delete          = False # Delete results of previous runs for that model.\n",
    "relative        = True  # The box scales with the image size\n",
    "balance         = False # Balance the results of the previous runs in case of stopping\n",
    "\n",
    "# Setting\n",
    "architecture    = \"FCNN\" \n",
    "activation      = \"ReLU\"\n",
    "task_name       = \"H1\"\n",
    "arch_name       = architecture + \"+\" + activation\n",
    "learning_rate   = 0.005\n",
    "estimates       = 5\n",
    "filepath        = 'results/week14/acc'+str(int(epsilon * 100))+'freq'+str(freq)+'.pkl' # Results file"
   ]
  }
 ],
 "metadata": {
  "kernelspec": {
   "display_name": "Python 3",
   "language": "python",
   "name": "python3"
  },
  "language_info": {
   "codemirror_mode": {
    "name": "ipython",
    "version": 3
   },
   "file_extension": ".py",
   "mimetype": "text/x-python",
   "name": "python",
   "nbconvert_exporter": "python",
   "pygments_lexer": "ipython3",
   "version": "3.10.11"
  }
 },
 "nbformat": 4,
 "nbformat_minor": 2
}
