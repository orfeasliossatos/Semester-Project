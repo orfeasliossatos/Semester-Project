{
 "cells": [
  {
   "cell_type": "markdown",
   "metadata": {},
   "source": [
    "# Sample Complexity Gaps"
   ]
  },
  {
   "cell_type": "markdown",
   "metadata": {},
   "source": [
    "Why can convolutional neural networks (CNNs) learn to classify images with less data than fully connected networks (FCNs)?\n",
    "\n",
    "One way to empirically observe this difference is to measure how many training samples it takes for both models to reach a fixed accuracy at a fixed task on a range of input dimensions. If you can describe how the number of training samples grows as a function $\\hat{g}$ of the input dimension $D$, then you have an empirical estimate of the sample complexity $\\hat{g}(d)$."
   ]
  },
  {
   "cell_type": "markdown",
   "metadata": {},
   "source": [
    "**In this project**, We construct an image classification task based on the Fourier Transform, and empirically demonstrate a sample complexity gap on realistic CNN and FCN architectures. *Our claim is weak* - that for our chosen arrangement of models, learning rates, image range, labelling function, and learning algorithm, in an abundance of training data, our CNN learns with an estimated $O(1)$ samples, and our FCN learns with an estimated $\\Omega(D^{2})$ samples. The value of this work is to better grasp what kind of natural tasks strongly distinguish the capabilities of CNNs and FCNs."
   ]
  },
  {
   "cell_type": "markdown",
   "metadata": {},
   "source": [
    "## Related work\n",
    "We build off the work of [Li, Zhang, Arora (2020)](https://arxiv.org/pdf/2010.08515.pdf), who found a task that requires at least a factor of $D^2$ more training samples for FCNs than for CNNs, where $D$ is the data dimension. Their data distribution is $\\mathcal{X}\\subset \\mathbb{R}^D \\sim \\mathcal{N}(0, 1)^D$. The target is given by the labelling function $h_2(x) = sgn(\\sum_{i=1}^{D/2}x_i^2 - \\sum_{i=D/2 +1}^{D}x_i^2)$. In an intuitive sense, this measures the brightness of two parts of an image. While we were able to replicate their heuristic experiment, we believe that it does not actually demonstrate the stated sample complexity gap of $\\Omega(D^2)$. We aim to take care of this as well."
   ]
  },
  {
   "cell_type": "markdown",
   "metadata": {},
   "source": [
    "## Methods"
   ]
  },
  {
   "cell_type": "markdown",
   "metadata": {},
   "source": [
    "We compare two models on two binary square image classification tasks.\n",
    "\n",
    "### Tasks\n",
    "Let $L$ be the image width, so $D:=L^2$ is the input dimension with $\\mathcal{X}\\subset \\mathbb{R}^D$.\n",
    "1. **Difference of p-norms (DOp)**\n",
    "+ An input is an entry-wise normal square image $\\mathcal{X} \\ni X \\sim \\mathcal{N}(0, 1)^D$.\n",
    "\n",
    "+ For $p>0$, define the labelling function $h_p(X)=\\mathcal{1}[\\sum_{i=1}^{D/2}x_i^p >\\sum_{i=D/2 +1}^{D}x_i^p]$, where the pixels $x_i$ of $X$ are indexed in column-order.\n",
    "\n",
    "+ Then $Y=h_p(X)$ is the corresponding label in $\\{0, 1\\}$. It tells you if the left side of the image is \"brighter\" than the right\".\n",
    "2. **Noisy Fourier patterns (NFP)**\n",
    "+ Create a blank Fourier-domain square image $\\dot{X}$ of side length $L$. \n",
    "\n",
    "+ Assign random complex units of $f=8$ random points in a low-pass box of side-length $L/2$ inside $\\dot{X}$.\n",
    "\n",
    "+ Then compute $|IFT(\\dot{X})|$ with pixel-wise modulus and standardize the pixel values to mean $0$ and variance $1$. Call this $M$.\n",
    "\n",
    "+ Generate a label $Y\\sim \\text{Ber}(p)$ in $\\{0, 1\\}$ with parameter $p=0.5$. If $Y=1$, obfuscate $M$ with noise $Z\\sim \\mathcal{N}(0, 1)^d$. \n",
    "\n",
    "+ Finally, $X = L^2\\frac{M + YZ}{(||M + YZ||_1+10^{-6})}$\n",
    "### Models\n",
    "We compare a standard convolutional neural network with a max-pooling and linear layer to a two-layer neural network. Well-known learning theory results tells us that the number of parameters is a confounder on the sample complexity, so we match the number of parameters of the FCN to that of the CNN as best as possible by adjusting the number of hidden neurons $H$ in the FCN.\n",
    "1. **Convolutional neural network** (CNN)\n",
    "    + Convolutional layer : $1$ in channel, $1000$ out channels, kernel size $3$, stride $1$, padding $1$\n",
    "    + Activation layer : $ReLU$\n",
    "    + Max pool layer : kernel size $2$, stride $2$\n",
    "    + Linear layer : ? in, $1$ out neuron\n",
    "    + Sigmoid layer : $\\sigma$\n",
    "2. **Fully connected Network** (FCN)\n",
    "    + Linear layer : $L^2$ in, $H$ out neurons\n",
    "    + Activation layer : $ReLU$\n",
    "    + Linear layer : $H$ in, $1$ out neuron\n",
    "    + Sigmoid layer : $\\sigma$\n",
    "\n",
    "If the CNN has $|CNN|$ parameters, then let $H=\\max\\{1, \\lceil |CNN| / (L^2+1)\\rceil - 1\\}$\n",
    "### The training and testing protocols\n",
    "+ We train with Adam and Binary Cross Entropy Loss, with freshly generated image batches of size $64$ since we assume an abundace of training data.\n",
    "+ When the model obtains a training loss of 0.5, we test the model against a set of $1000$ fixed image-label pairs and compute accuracy $\\alpha$.\n",
    "+ If the obtained accuracy surpasses the requirement $\\alpha > \\epsilon$, then stop and record the number of training batches for that image size. \\\n",
    "Otherwise, lower the training loss goal by $0.025$ and continue training on new batches.\n",
    "+ The learning rates $\\eta$ and accuracy goals $\\epsilon$ we used are summarized in this table.\n",
    "\n",
    "|  | CNN $\\eta$ | FCN $\\eta$ | $\\epsilon$ |\n",
    "|:-------:|---------|-----|---|\n",
    "| NFP | 0.0001 | 0.005 | - |\n",
    "| DO1 | 0.0001  | 0.005 | 0.85|\n",
    "| DO2 | -  | - | - |\n",
    "\n",
    "### The measurement\n",
    "For a range of image sizes $L\\in\\{10,12,14\\dots,40\\}$ and a given task, we train both models on fresh batches of 64 training samples until the model hits the required accuracy $\\epsilon=0.75$ on the held-out test set, and record the number of batches. We do this a total of $5$ times per model and task, and then fit a polynomial model of the form $ax^b$ with $a, b\\in\\mathbb{R}_{\\geq 0}$ to the results in order to get the estimate $\\Omega(d^b)$.\n"
   ]
  },
  {
   "cell_type": "markdown",
   "metadata": {},
   "source": [
    "# Experiment"
   ]
  },
  {
   "cell_type": "code",
   "execution_count": 30,
   "metadata": {},
   "outputs": [],
   "source": [
    "# Imports\n",
    "import os\n",
    "import sys\n",
    "import pickle\n",
    "import numpy as np\n",
    "import torch\n",
    "import torch.nn as nn\n",
    "import torch.optim as optim\n",
    "from matplotlib import pyplot as plt\n",
    "from scipy.optimize import curve_fit\n",
    "from itertools import product\n",
    "from helpers import *\n",
    "from models import ModelLoader"
   ]
  },
  {
   "cell_type": "markdown",
   "metadata": {},
   "source": [
    "We define the fixed experiment parameters and particular setting."
   ]
  },
  {
   "cell_type": "code",
   "execution_count": 57,
   "metadata": {},
   "outputs": [],
   "source": [
    "# Fixed variables\n",
    "Ls              = np.arange(10, 40+1, 2) # Image side lengths\n",
    "channels        = 1     # Image channels\n",
    "input_shapes    = [(channels, L, L) for L in Ls]\n",
    "N_te            = 1_000 # Test set\n",
    "f               = 8     # Number of distinct frequencies            \n",
    "batch_size      = 64    # Batch size\n",
    "cnn_out_chans   = 1000  # The number of output channels in the CNN model\n",
    "epsilon         = 0.9  # Required accuracy\n",
    "\n",
    "# Experiment controls\n",
    "delete          = False # Delete results of previous runs for that model.\n",
    "relative        = True  # The box scales with the image size\n",
    "balance         = False # Balance the results of the previous runs in case of stopping\n",
    "\n",
    "# Particular setting\n",
    "architecture    = \"FCNN\" # Codes are FCNN or CNN \n",
    "activation      = \"ReLU\"\n",
    "task_name       = \"DO1\" # Codes are DO1, DO2, or NFP\n",
    "arch_name       = architecture + \"+\" + activation\n",
    "learning_rate   = 0.005\n",
    "estimates       = 3\n",
    "filepath        = f'results/week14/task{task_name}_acc{str(epsilon)}_freq{f}.pkl' # Results file"
   ]
  },
  {
   "cell_type": "markdown",
   "metadata": {},
   "source": [
    "We create, delete, or balance out the results file in case of an incomplete run."
   ]
  },
  {
   "cell_type": "code",
   "execution_count": 49,
   "metadata": {},
   "outputs": [],
   "source": [
    "# Create file if it doesn't exist\n",
    "with open(filepath, 'ab+') as file:\n",
    "    if os.stat(filepath).st_size == 0:\n",
    "        pickle.dump(dict(), file)\n",
    "\n",
    "# Option del - delete contents of results file\n",
    "if delete:\n",
    "    with open(filepath, 'rb+') as file:\n",
    "        results = pickle.load(file)\n",
    "\n",
    "    # Filter out results with same name\n",
    "    with open(filepath, 'wb+') as file:\n",
    "        filtered = {(name, size) : val for (name, size), val in results.items() if name!=arch_name}\n",
    "        pickle.dump(filtered, file)\n",
    "\n",
    "# Option balance - balance previous results\n",
    "if balance:        \n",
    "    with open(filepath, 'rb+') as file:\n",
    "        results = pickle.load(file)\n",
    "\n",
    "        # The minumum number of runs from previous\n",
    "        min_runs = min([len(res) for (name, size), res in results.items() if name==arch_name])\n",
    "\n",
    "    # Filter out results with same name\n",
    "    with open(filepath, 'wb+') as file:\n",
    "        balanced = {(name, size): res[:min_runs] if name==arch_name else res for (name, size), res in results.items()}\n",
    "        pickle.dump(balanced, file)\n"
   ]
  },
  {
   "cell_type": "markdown",
   "metadata": {},
   "source": [
    "We deploy a GPU if it is available."
   ]
  },
  {
   "cell_type": "code",
   "execution_count": 50,
   "metadata": {},
   "outputs": [
    {
     "name": "stdout",
     "output_type": "stream",
     "text": [
      "Using device:  cpu \n",
      "\n"
     ]
    }
   ],
   "source": [
    "# Use GPU if available\n",
    "device = torch.device(\"cuda:0\" if torch.cuda.is_available() else \"cpu\")\n",
    "print(\"Using device: \", device, \"\\n\")\n",
    "\n",
    "# Don't try to use CuDNN with Tesla GPU\n",
    "torch.backends.cudnn.enabled = False\n",
    "\n",
    "# GPU has not a lot of memory, so empty cache\n",
    "torch.cuda.empty_cache() \n",
    "\n",
    "# Avoid fragmentation\n",
    "os.environ[\"PYTORCH_CUDA_ALLOC_CONF\"] = \"max_split_size_mb:256\" "
   ]
  },
  {
   "cell_type": "markdown",
   "metadata": {},
   "source": [
    "## Data generation\n",
    "We set up the scripts to generate data for the two tasks."
   ]
  },
  {
   "cell_type": "markdown",
   "metadata": {},
   "source": [
    "### Task 1 - Difference of p-norms"
   ]
  },
  {
   "cell_type": "code",
   "execution_count": 51,
   "metadata": {},
   "outputs": [],
   "source": [
    "def gen_DOP_data(L=10, N=1, p=2):\n",
    "    \"\"\"\n",
    "        Generates data for the difference of p-norms task.\n",
    "        \n",
    "        Parameters:\n",
    "            L: image width \n",
    "            N: number of samples to generate\n",
    "            p: the norm\n",
    "        Returns:\n",
    "            x: the noisy image tensor of shape (N, 1, L, L)\n",
    "            y: the label tensor of shape (N, 1)\n",
    "    \"\"\"\n",
    "    \n",
    "    # Pixel-wise standard normal\n",
    "    x = torch.tensor(np.random.normal(0,1,size=(N, 1, L, L)), dtype=torch.float32)\n",
    "    \n",
    "    # Left and right norms across the image dimensions\n",
    "    l_norm = torch.sum(x[:, :, :, L//2:]**p, dim=(2, 3))\n",
    "    r_norm = torch.sum(x[:, :, :, :L//2]**p, dim=(2, 3))\n",
    "    \n",
    "    # Label : 1 if the left norm is higher than the right\n",
    "    y = (l_norm > r_norm).type(dtype=torch.float32)\n",
    "\n",
    "    # Return data and labels\n",
    "    return x, y"
   ]
  },
  {
   "cell_type": "markdown",
   "metadata": {},
   "source": [
    "Here's are some samples"
   ]
  },
  {
   "cell_type": "code",
   "execution_count": 52,
   "metadata": {},
   "outputs": [
    {
     "data": {
      "image/png": "[encoded data removed]",
      "text/plain": [
       "<Figure size 640x480 with 2 Axes>"
      ]
     },
     "metadata": {},
     "output_type": "display_data"
    }
   ],
   "source": [
    "L = 10; p=2; N=2\n",
    "ticks = np.array([0, L//2-1, L-1])\n",
    "x, y = gen_DOP_data(L, N, p)\n",
    "fig, axs = plt.subplots(ncols=N)\n",
    "for i, ax in enumerate(axs):\n",
    "    ax.imshow(x[i, 0], origin='lower')\n",
    "    ax.set_title(f\"Label {int(y[i, 0])}\")\n",
    "    ax.set_xticks(ticks); ax.set_xticklabels(ticks+1)\n",
    "    ax.set_yticks(ticks); ax.set_yticklabels(ticks+1)\n",
    "\n",
    "fig.tight_layout()\n",
    "fig.suptitle(f\"Difference of {p}-norms\", y= 0.84)\n",
    "plt.show()"
   ]
  },
  {
   "cell_type": "markdown",
   "metadata": {},
   "source": [
    "### Task 2 - Noisy Fourier Patterns"
   ]
  },
  {
   "cell_type": "code",
   "execution_count": 53,
   "metadata": {},
   "outputs": [],
   "source": [
    "def gen_NFP_data(L, N, f, clamp, channels=1):\n",
    "\n",
    "    \"\"\"\n",
    "        Generates data for the Noisy Fourier Patterns task.\n",
    "        \n",
    "        Parameters:\n",
    "            L: image width \n",
    "            N: number of samples to generate\n",
    "            f: the maximum number of different frequencies\n",
    "            channels : the number of image channels\n",
    "            clamp: the size of the box in which frequencies may be set\n",
    "        Returns:\n",
    "            x: the fourier pattern tensor of shape (N, 1, L, L)\n",
    "            y: the label tensor of shape (N, 1)\n",
    "            x_dot: the original frequency tensor of shape (N, 1, L, L)\n",
    "    \"\"\"\n",
    "\n",
    "    # Code for < 8 frequencies. \n",
    "    # f_choices = np.arange(1, f+1)\n",
    "    # fs = np.random.choice(a=f_choices, size=N, p=(f_choices / np.sum(f_choices)))\n",
    "\n",
    "    # Bernoulli labels : noise / no noise\n",
    "    sigs = np.random.choice([0, 1], size=(N, ), p=[0.5, 0.5])\n",
    "    y = np.where(sigs == 0, 0, 1)\n",
    "\n",
    "    # Blank F-domain canvases [number, channels, width, height]\n",
    "    blank = np.zeros(L * L).astype(complex)\n",
    "    x_dot = blank.reshape((1,len(blank))).repeat(N, axis=0).reshape((N, channels, L, L))\n",
    "\n",
    "    # Select random pixels in low frequency box\n",
    "    span = np.arange(-clamp//2, clamp//2+1)         # Index [-clamp, clamp] along one dimension\n",
    "    w, h = list(zip(*list(product(span, span))))    # The pairs of indices in two dimensions unzipped\n",
    "    subarray = x_dot[..., w, h]                \n",
    "    \n",
    "    # Set f pixels to 1 in the box\n",
    "    subarray[..., :f] = np.exp(2 * np.pi * 1j * np.random.rand(1, f)) \n",
    "\n",
    "    permute_along_axes(subarray, [2])               # Randomize the position of those pixels \n",
    "    x_dot[..., w, h] = subarray                     # Assign the original image with those pixels\n",
    "\n",
    "    # Perform the 2D inverse Fourier transform\n",
    "    x = np.array([standardize(img) for img in np.abs(np.fft.ifft2(x_dot))])\n",
    "\n",
    "    # Add noise depending on the label\n",
    "    x = np.array([x[j] + np.random.normal(0, sigs[j], size=(channels, L, L)) for j in np.arange(N)])\n",
    "\n",
    "    # Convert to torch tensors\n",
    "    x = torch.from_numpy(x).to(torch.float32)\n",
    "    y = torch.from_numpy(y.reshape((-1,1))).to(torch.float32)\n",
    "\n",
    "    # L1-normalize the image\n",
    "    x *= L**2 / (x.norm(p=1, dim=[2,3], keepdim=True)  + 1e-6)\n",
    "\n",
    "    return x, y, x_dot"
   ]
  },
  {
   "cell_type": "markdown",
   "metadata": {},
   "source": [
    "Here's are some samples. Note that the low frequency box is actually shifted across the four corners of the image."
   ]
  },
  {
   "cell_type": "code",
   "execution_count": 54,
   "metadata": {},
   "outputs": [
    {
     "data": {
      "image/png": "[encoded data removed]",
      "text/plain": [
       "<Figure size 640x480 with 6 Axes>"
      ]
     },
     "metadata": {},
     "output_type": "display_data"
    }
   ],
   "source": [
    "L = 40; N = 3; f = 8; clamp = L // 2\n",
    "ticks = np.array([0, L//2-1, L-1])\n",
    "x, y, x_dot = gen_NFP_data(L, N, f=8, clamp=L//2)\n",
    "fig, axs = plt.subplots(ncols=N, nrows=2, sharey= True, sharex=True)\n",
    "\n",
    "for i, j in product(range(2), range(N)):\n",
    "    axs[i, j].imshow(np.abs(x_dot[j, 0]) if i == 0 else x[j, 0], origin='lower')\n",
    "    if i == 0:\n",
    "        axs[i, j].set_title(f\"Label {int(y[j].item())}\")\n",
    "    axs[i, j].set_xticks(ticks); axs[i, j].set_xticklabels(ticks+1)\n",
    "    axs[i, j].set_yticks(ticks); axs[i, j].set_yticklabels(ticks+1)\n",
    "\n",
    "fig.suptitle(f\"Noisy Fourier Patterns, f={f}\")\n",
    "fig.tight_layout()\n",
    "plt.show()"
   ]
  },
  {
   "cell_type": "markdown",
   "metadata": {},
   "source": [
    "### Generating test data"
   ]
  },
  {
   "cell_type": "code",
   "execution_count": 55,
   "metadata": {},
   "outputs": [],
   "source": [
    "# Reset number generation\n",
    "np.random.seed(0)\n",
    "torch.manual_seed(0)\n",
    "\n",
    "# Create test sets\n",
    "te_loaders = []\n",
    "for i, L in enumerate(Ls):\n",
    "\n",
    "    if task_name == \"DO1\":\n",
    "        x, y = gen_DOP_data(L, N_te, 1)\n",
    "    elif task_name == \"DO2\":\n",
    "        x, y = gen_DOP_data(L, N_te, 2)\n",
    "    elif task_name == \"NFP\":\n",
    "        x, y, _ = gen_NFP_data(L, N_te, f, clamp=L//2)\n",
    "    \n",
    "    # Batch test sets so it can fit on GPU (no need to shuffle, this is just test set.)\n",
    "    te_loaders += [DataLoader(TensorDataset(x, y), batch_size=batch_size)]"
   ]
  },
  {
   "cell_type": "markdown",
   "metadata": {},
   "source": [
    "## Training"
   ]
  },
  {
   "cell_type": "code",
   "execution_count": 56,
   "metadata": {},
   "outputs": [
    {
     "name": "stdout",
     "output_type": "stream",
     "text": [
      "Training CNN on task DO1 with Adam optimizer and learning rate 0.0001 to accuracy 0.85. Image range [10 12 14 16 18 20 22 24 26 28 30 32 34 36 38 40] : \n",
      "Run 0 / 3\n",
      "Image size 10\n",
      "Generated CNN with 35001 parameters\n",
      "Current accuracy: 0.808\n",
      "Current accuracy: 0.81\n",
      "Current accuracy: 0.869\n",
      "Reached accuracy: 0.869 in 34 batches of size 64.\n",
      "Progress: 1 / 16\n",
      "Image size 12\n",
      "Generated CNN with 46001 parameters\n",
      "Current accuracy: 0.833\n",
      "Current accuracy: 0.837\n",
      "Current accuracy: 0.859\n",
      "Reached accuracy: 0.859 in 44 batches of size 64.\n",
      "Progress: 2 / 16\n",
      "Image size 14\n",
      "Generated CNN with 59001 parameters\n",
      "Train loss: 1.4136103391647339\n",
      "Current accuracy: 0.867\n",
      "Reached accuracy: 0.867 in 36 batches of size 64.\n",
      "Progress: 3 / 16\n",
      "Image size 16\n",
      "Generated CNN with 74001 parameters\n",
      "Train loss: 1.6251732110977173\n",
      "Train loss: 1.0691810846328735\n",
      "Train loss: 1.3054710626602173\n",
      "Current accuracy: 0.671\n",
      "Current accuracy: 0.73\n",
      "Current accuracy: 0.763\n",
      "Current accuracy: 0.844\n",
      "Current accuracy: 0.853\n",
      "Reached accuracy: 0.853 in 79 batches of size 64.\n",
      "Progress: 4 / 16\n",
      "Image size 18\n",
      "Generated CNN with 91001 parameters\n",
      "Train loss: 2.614658832550049\n",
      "Train loss: 1.1502776145935059\n",
      "Train loss: 1.026187777519226\n",
      "Current accuracy: 0.706\n",
      "Current accuracy: 0.864\n",
      "Reached accuracy: 0.864 in 52 batches of size 64.\n",
      "Progress: 5 / 16\n",
      "Image size 20\n",
      "Generated CNN with 110001 parameters\n",
      "Train loss: 1.8185077905654907\n",
      "Train loss: 1.4044232368469238\n",
      "Train loss: 1.5833964347839355\n",
      "Train loss: 1.2689175605773926\n",
      "Train loss: 1.2100799083709717\n",
      "Current accuracy: 0.808\n",
      "Current accuracy: 0.737\n",
      "Current accuracy: 0.728\n",
      "Current accuracy: 0.886\n",
      "Reached accuracy: 0.886 in 75 batches of size 64.\n",
      "Progress: 6 / 16\n",
      "Image size 22\n",
      "Generated CNN with 131001 parameters\n",
      "Train loss: 2.3812224864959717\n",
      "Train loss: 1.6695114374160767\n",
      "Train loss: 1.140164852142334\n",
      "Train loss: 1.2526183128356934\n",
      "Train loss: 1.3904451131820679\n",
      "Train loss: 1.2736226320266724\n",
      "Train loss: 1.0082401037216187\n",
      "Train loss: 1.2518125772476196\n",
      "Train loss: 1.1641697883605957\n",
      "Train loss: 1.1240410804748535\n",
      "Current accuracy: 0.618\n",
      "Current accuracy: 0.641\n",
      "Current accuracy: 0.805\n",
      "Current accuracy: 0.61\n",
      "Current accuracy: 0.816\n"
     ]
    },
    {
     "ename": "KeyboardInterrupt",
     "evalue": "",
     "output_type": "error",
     "traceback": [
      "\u001b[1;31m---------------------------------------------------------------------------\u001b[0m",
      "\u001b[1;31mKeyboardInterrupt\u001b[0m                         Traceback (most recent call last)",
      "Cell \u001b[1;32mIn[56], line 67\u001b[0m\n\u001b[0;32m     65\u001b[0m output \u001b[38;5;241m=\u001b[39m model(x)\n\u001b[0;32m     66\u001b[0m tr_loss \u001b[38;5;241m=\u001b[39m criterion(output, y)\n\u001b[1;32m---> 67\u001b[0m \u001b[43mtr_loss\u001b[49m\u001b[38;5;241;43m.\u001b[39;49m\u001b[43mbackward\u001b[49m\u001b[43m(\u001b[49m\u001b[43m)\u001b[49m\n\u001b[0;32m     68\u001b[0m optimizer\u001b[38;5;241m.\u001b[39mstep()\n\u001b[0;32m     70\u001b[0m \u001b[38;5;66;03m# Print for logging purposes (underfitting, overfitting)\u001b[39;00m\n",
      "File \u001b[1;32mc:\\Users\\oilio\\AppData\\Local\\Programs\\Python\\Python310\\lib\\site-packages\\torch\\_tensor.py:492\u001b[0m, in \u001b[0;36mTensor.backward\u001b[1;34m(self, gradient, retain_graph, create_graph, inputs)\u001b[0m\n\u001b[0;32m    482\u001b[0m \u001b[38;5;28;01mif\u001b[39;00m has_torch_function_unary(\u001b[38;5;28mself\u001b[39m):\n\u001b[0;32m    483\u001b[0m     \u001b[38;5;28;01mreturn\u001b[39;00m handle_torch_function(\n\u001b[0;32m    484\u001b[0m         Tensor\u001b[38;5;241m.\u001b[39mbackward,\n\u001b[0;32m    485\u001b[0m         (\u001b[38;5;28mself\u001b[39m,),\n\u001b[1;32m   (...)\u001b[0m\n\u001b[0;32m    490\u001b[0m         inputs\u001b[38;5;241m=\u001b[39minputs,\n\u001b[0;32m    491\u001b[0m     )\n\u001b[1;32m--> 492\u001b[0m \u001b[43mtorch\u001b[49m\u001b[38;5;241;43m.\u001b[39;49m\u001b[43mautograd\u001b[49m\u001b[38;5;241;43m.\u001b[39;49m\u001b[43mbackward\u001b[49m\u001b[43m(\u001b[49m\n\u001b[0;32m    493\u001b[0m \u001b[43m    \u001b[49m\u001b[38;5;28;43mself\u001b[39;49m\u001b[43m,\u001b[49m\u001b[43m \u001b[49m\u001b[43mgradient\u001b[49m\u001b[43m,\u001b[49m\u001b[43m \u001b[49m\u001b[43mretain_graph\u001b[49m\u001b[43m,\u001b[49m\u001b[43m \u001b[49m\u001b[43mcreate_graph\u001b[49m\u001b[43m,\u001b[49m\u001b[43m \u001b[49m\u001b[43minputs\u001b[49m\u001b[38;5;241;43m=\u001b[39;49m\u001b[43minputs\u001b[49m\n\u001b[0;32m    494\u001b[0m \u001b[43m\u001b[49m\u001b[43m)\u001b[49m\n",
      "File \u001b[1;32mc:\\Users\\oilio\\AppData\\Local\\Programs\\Python\\Python310\\lib\\site-packages\\torch\\autograd\\__init__.py:251\u001b[0m, in \u001b[0;36mbackward\u001b[1;34m(tensors, grad_tensors, retain_graph, create_graph, grad_variables, inputs)\u001b[0m\n\u001b[0;32m    246\u001b[0m     retain_graph \u001b[38;5;241m=\u001b[39m create_graph\n\u001b[0;32m    248\u001b[0m \u001b[38;5;66;03m# The reason we repeat the same comment below is that\u001b[39;00m\n\u001b[0;32m    249\u001b[0m \u001b[38;5;66;03m# some Python versions print out the first line of a multi-line function\u001b[39;00m\n\u001b[0;32m    250\u001b[0m \u001b[38;5;66;03m# calls in the traceback and some print out the last line\u001b[39;00m\n\u001b[1;32m--> 251\u001b[0m \u001b[43mVariable\u001b[49m\u001b[38;5;241;43m.\u001b[39;49m\u001b[43m_execution_engine\u001b[49m\u001b[38;5;241;43m.\u001b[39;49m\u001b[43mrun_backward\u001b[49m\u001b[43m(\u001b[49m\u001b[43m  \u001b[49m\u001b[38;5;66;43;03m# Calls into the C++ engine to run the backward pass\u001b[39;49;00m\n\u001b[0;32m    252\u001b[0m \u001b[43m    \u001b[49m\u001b[43mtensors\u001b[49m\u001b[43m,\u001b[49m\n\u001b[0;32m    253\u001b[0m \u001b[43m    \u001b[49m\u001b[43mgrad_tensors_\u001b[49m\u001b[43m,\u001b[49m\n\u001b[0;32m    254\u001b[0m \u001b[43m    \u001b[49m\u001b[43mretain_graph\u001b[49m\u001b[43m,\u001b[49m\n\u001b[0;32m    255\u001b[0m \u001b[43m    \u001b[49m\u001b[43mcreate_graph\u001b[49m\u001b[43m,\u001b[49m\n\u001b[0;32m    256\u001b[0m \u001b[43m    \u001b[49m\u001b[43minputs\u001b[49m\u001b[43m,\u001b[49m\n\u001b[0;32m    257\u001b[0m \u001b[43m    \u001b[49m\u001b[43mallow_unreachable\u001b[49m\u001b[38;5;241;43m=\u001b[39;49m\u001b[38;5;28;43;01mTrue\u001b[39;49;00m\u001b[43m,\u001b[49m\n\u001b[0;32m    258\u001b[0m \u001b[43m    \u001b[49m\u001b[43maccumulate_grad\u001b[49m\u001b[38;5;241;43m=\u001b[39;49m\u001b[38;5;28;43;01mTrue\u001b[39;49;00m\u001b[43m,\u001b[49m\n\u001b[0;32m    259\u001b[0m \u001b[43m\u001b[49m\u001b[43m)\u001b[49m\n",
      "\u001b[1;31mKeyboardInterrupt\u001b[0m: "
     ]
    }
   ],
   "source": [
    "# Print log\n",
    "print(f\"Training {architecture} on task {task_name} with Adam optimizer and learning rate {learning_rate} to accuracy {epsilon}. Image range {Ls} : \")\n",
    "\n",
    "# Reset number generation\n",
    "np.random.seed(0)\n",
    "torch.manual_seed(0)\n",
    "\n",
    "# Model loader object\n",
    "loader = ModelLoader()\n",
    "\n",
    "# Perform the experiment multiple times\n",
    "for e in range(estimates):\n",
    "\n",
    "    print(f\"Run {e} / {estimates}\")\n",
    "\n",
    "    # Over every image size\n",
    "    for i, L in enumerate(Ls):\n",
    "\n",
    "        # Generate dataset and dataloaders\n",
    "        print(f\"Image size {L}\")\n",
    "        \n",
    "        # Load model\n",
    "        model_options = {'input_shape': input_shapes[i], 'out_channels': cnn_out_chans}\n",
    "\n",
    "        # Parameter-fair FCNN options\n",
    "        if architecture == \"FCNN\":\n",
    "            \n",
    "            # Create reference CNN\n",
    "            cnn = loader.load(\"CNN\", \"ReLU\", {'input_shape': input_shapes[i], 'out_channels': cnn_out_chans})\n",
    "            cnn_param_count = sum(p.numel() for p in cnn.parameters())\n",
    "            hidden_neurons = max(1, int(cnn_param_count / (L**2 + 1)))\n",
    "            print(\"Number of hidden_neurons\", hidden_neurons)\n",
    "\n",
    "            # Set number of hidden neurons to match CNN\n",
    "            model_options['hidden_neurons'] = hidden_neurons\n",
    "\n",
    "        model = loader.load(architecture, activation, model_options).to(device)\n",
    "\n",
    "        # Print number of parameters\n",
    "        print(\"Generated\", architecture, \"with\", count_parameters(model), \"parameters\")\n",
    "        \n",
    "        # Optimizer and criterion\n",
    "        optimizer = optim.Adam(model.parameters(), lr = learning_rate)\n",
    "        criterion = nn.BCELoss()\n",
    "\n",
    "        # Training loop\n",
    "        \n",
    "        tr_loss_req = 0.5\n",
    "        tr_step = 0\n",
    "        finished = False\n",
    "        while not finished:\n",
    "            \n",
    "            # Generate fresh data\n",
    "            if task_name == \"DO1\":\n",
    "                x, y = gen_DOP_data(L, batch_size, 1)\n",
    "            elif task_name == \"DO2\":\n",
    "                x, y = gen_DOP_data(L, batch_size, 2)\n",
    "            elif task_name == \"NFP\":\n",
    "                x, y, _ = gen_NFP_data(L, batch_size, f, clamp=L//2)\n",
    "            x, y = x.to(device), y.to(device)\n",
    "\n",
    "            # Forward and backward step\n",
    "            model.train()\n",
    "            optimizer.zero_grad()\n",
    "            output = model(x)\n",
    "            tr_loss = criterion(output, y)\n",
    "            tr_loss.backward()\n",
    "            optimizer.step()\n",
    "\n",
    "            # Print for logging purposes (underfitting, overfitting)\n",
    "            if tr_loss.item() > 1 or tr_loss.item() < 0.05:\n",
    "                print(\"Train loss:\", tr_loss.item())\n",
    "\n",
    "            # Evaluate when tr_loss is small\n",
    "            accuracy = 0.0\n",
    "            if tr_loss.item() < tr_loss_req:\n",
    "                with torch.no_grad():\n",
    "                    model.eval()\n",
    "                    for x, y in te_loaders[i]:\n",
    "                        \n",
    "                        x, y = x.to(device), y.to(device)\n",
    "                        output = model(x)\n",
    "                        accuracy += sum(torch.eq((output>0.5).to(float), y)).item()\n",
    "                    accuracy /= N_te\n",
    "                print(f\"Current accuracy: {accuracy}\")\n",
    "                tr_loss_req = max(0.01, tr_loss_req - 0.025)\n",
    "\n",
    "            # Check goal\n",
    "            tr_step += 1\n",
    "            if accuracy > epsilon:\n",
    "                print(f\"Reached accuracy: {accuracy} in {tr_step} batches of size {batch_size}.\")\n",
    "                finished = True\n",
    "\n",
    "        # Save results\n",
    "        with open(filepath, 'rb') as file:\n",
    "            results = pickle.load(file)\n",
    "\n",
    "        # Add experiment to results\n",
    "        results[(arch_name, L**2)] = (results.get((arch_name, L**2)) or []) + [tr_step * batch_size]\n",
    "\n",
    "        # Write training set size to file\n",
    "        with open(filepath, 'wb') as file:\n",
    "            pickle.dump(results, file)\n",
    "            \n",
    "        # Print progress\n",
    "        print(f\"Progress: {i+1} / {len(Ls)}\")"
   ]
  },
  {
   "cell_type": "markdown",
   "metadata": {},
   "source": [
    "## Polynomial fitting\n",
    "\n",
    "Now we perform model fitting to estimate the sample complexity gap. "
   ]
  },
  {
   "cell_type": "code",
   "execution_count": 32,
   "metadata": {},
   "outputs": [],
   "source": [
    "# The function to fit\n",
    "def polynomial(x, a, b):\n",
    "    return a*(x**b)\n",
    "\n",
    "# The bounds on the coefficients\n",
    "bounds = (0, np.inf)"
   ]
  },
  {
   "cell_type": "code",
   "execution_count": 58,
   "metadata": {},
   "outputs": [
    {
     "name": "stderr",
     "output_type": "stream",
     "text": [
      "c:\\Users\\oilio\\AppData\\Local\\Programs\\Python\\Python310\\lib\\site-packages\\scipy\\optimize\\_minpack_py.py:1010: OptimizeWarning: Covariance of the parameters could not be estimated\n",
      "  warnings.warn('Covariance of the parameters could not be estimated',\n"
     ]
    },
    {
     "data": {
      "image/png": "[encoded data removed]",
      "text/plain": [
       "<Figure size 640x480 with 1 Axes>"
      ]
     },
     "metadata": {},
     "output_type": "display_data"
    }
   ],
   "source": [
    "# Load data\n",
    "with open(filepath, 'rb') as file:\n",
    "    sample_complexity = pickle.load(file)\n",
    "# Extract data to plot\n",
    "names = set([name for name, _ in sample_complexity.keys()])\n",
    "\n",
    "# Plot colours\n",
    "colordict = {\"FCNN+ReLU\":'tab:orange', \"CNN+ReLU\":'tab:blue'}\n",
    "\n",
    "# For every model, make line plot\n",
    "for i, name in enumerate(names):\n",
    "    \n",
    "    xs, ys, means, stds = unpack_and_aggregate(sample_complexity, name, [np.mean, np.std])\n",
    "    plt.scatter(xs, ys, marker='.', linestyle='-', label=name, color=colordict[name])\n",
    "    plt.legend()\n",
    "    \n",
    "    # Plot means and standard deviations\n",
    "    plt.errorbar(np.unique(xs), means, stds, color=(0.5, 0.5, 0.5, 0.5))\n",
    "\n",
    "    # Plot polynomial estimates\n",
    "    fitted, covariance = curve_fit(polynomial, xs, ys, p0=[1, 1], bounds=bounds)\n",
    "    \n",
    "    plt.plot(xs, polynomial(xs, *fitted), label=\"{:.1f}+x^{:.1f}\".format(fitted[0], fitted[1]), color=colordict[name])\n",
    "    plt.legend()\n",
    "\n",
    "# Plot graphics\n",
    "plt.xlabel('Image width')\n",
    "plt.ylabel('Training set size')\n",
    "plt.legend()\n",
    "plt.xticks(ticks=[tick for tick in plt.xticks()[0]][1::2], labels=[tick for tick in plt.xticks()[1]][1::2])\n",
    "plt.title(f'Task {task_name} to >{epsilon*100}% accuracy')\n",
    "plt.grid(True)\n",
    "\n",
    "# Show the plot\n",
    "plt.show()"
   ]
  }
 ],
 "metadata": {
  "kernelspec": {
   "display_name": "Python 3",
   "language": "python",
   "name": "python3"
  },
  "language_info": {
   "codemirror_mode": {
    "name": "ipython",
    "version": 3
   },
   "file_extension": ".py",
   "mimetype": "text/x-python",
   "name": "python",
   "nbconvert_exporter": "python",
   "pygments_lexer": "ipython3",
   "version": "3.10.11"
  }
 },
 "nbformat": 4,
 "nbformat_minor": 2
}
